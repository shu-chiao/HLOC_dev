{
 "cells": [
  {
   "cell_type": "code",
   "execution_count": 2,
   "metadata": {},
   "outputs": [],
   "source": [
    "from pathlib import Path\n",
    "\n",
    "import numpy as np\n",
    "import h5py"
   ]
  },
  {
   "cell_type": "code",
   "execution_count": 6,
   "metadata": {},
   "outputs": [],
   "source": [
    "out5h = Path('/home/shu/My/HLOC_dev/outputs/loc_indoor/global-feats-netvlad.h5')\n",
    "f = h5py.File(out5h, 'r')\n"
   ]
  },
  {
   "cell_type": "code",
   "execution_count": null,
   "metadata": {},
   "outputs": [],
   "source": [
    "def recursive_list(group, indent=0):\n",
    "            \"\"\" Recursively lists all groups and datasets in an HDF5 group \"\"\"\n",
    "            for key, item in group.items():\n",
    "                print('  ' * indent + key, 'Group' if isinstance(item, h5py.Group) else 'Dataset')\n",
    "                if isinstance(item, h5py.Group):\n",
    "                    recursive_list(item, indent + 1)\n",
    "\n",
    "recursive_list(f)"
   ]
  },
  {
   "cell_type": "code",
   "execution_count": null,
   "metadata": {},
   "outputs": [],
   "source": [
    "def copy_group(src, dest):\n",
    "    \"\"\"\n",
    "    Recursively copy a group from source HDF5 to destination HDF5.\n",
    "    \"\"\"\n",
    "    for name, item in src.items():\n",
    "        if isinstance(item, h5py.Dataset):\n",
    "            # Copy dataset from source to destination\n",
    "            dest.copy(item, name)\n",
    "        elif isinstance(item, h5py.Group):\n",
    "            # Create new group in destination and copy its content\n",
    "            if name not in dest:\n",
    "                dest.create_group(name)\n",
    "            copy_group(item, dest[name])\n",
    "\n",
    "def merge_hdf5(source_file, target_file):\n",
    "    \"\"\"\n",
    "    Merge two HDF5 files. All groups and datasets from source_file will be\n",
    "    copied to target_file.\n",
    "    \"\"\"\n",
    "    with h5py.File(source_file, 'r') as src, h5py.File(target_file, 'a') as dest:\n",
    "        copy_group(src, dest)\n",
    "\n",
    "# Example usage\n",
    "merge_hdf5('source.h5', 'target.h5')"
   ]
  }
 ],
 "metadata": {
  "kernelspec": {
   "display_name": "pytorch",
   "language": "python",
   "name": "python3"
  },
  "language_info": {
   "codemirror_mode": {
    "name": "ipython",
    "version": 3
   },
   "file_extension": ".py",
   "mimetype": "text/x-python",
   "name": "python",
   "nbconvert_exporter": "python",
   "pygments_lexer": "ipython3",
   "version": "3.10.13"
  }
 },
 "nbformat": 4,
 "nbformat_minor": 2
}
